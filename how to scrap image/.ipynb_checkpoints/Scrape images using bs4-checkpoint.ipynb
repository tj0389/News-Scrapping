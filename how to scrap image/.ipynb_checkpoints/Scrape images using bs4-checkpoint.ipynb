{
 "cells": [
  {
   "cell_type": "code",
   "execution_count": 1,
   "metadata": {},
   "outputs": [],
   "source": [
    "import bs4\n",
    "import requests"
   ]
  },
  {
   "cell_type": "code",
   "execution_count": 2,
   "metadata": {},
   "outputs": [],
   "source": [
    "url=\"https://www.passiton.com/inspirational-quotes\""
   ]
  },
  {
   "cell_type": "code",
   "execution_count": 3,
   "metadata": {},
   "outputs": [],
   "source": [
    "data=requests.get(url)"
   ]
  },
  {
   "cell_type": "code",
   "execution_count": 4,
   "metadata": {},
   "outputs": [],
   "source": [
    "#data.content"
   ]
  },
  {
   "cell_type": "code",
   "execution_count": 5,
   "metadata": {},
   "outputs": [],
   "source": [
    "#HTMLParser return object\n",
    "soup=bs4.BeautifulSoup(data.content)\n",
    "#soup"
   ]
  },
  {
   "cell_type": "code",
   "execution_count": 6,
   "metadata": {},
   "outputs": [],
   "source": [
    "#article_element=soup.findAll('div',{'class':'row','id':'all_quotes'})"
   ]
  },
  {
   "cell_type": "code",
   "execution_count": 7,
   "metadata": {},
   "outputs": [
    {
     "data": {
      "text/plain": [
       "[<div class=\"col-6 col-lg-3 text-center margin-30px-bottom sm-margin-30px-top\">\n",
       " <a href=\"/inspirational-quotes/8117-take-care-be-kind-be-considerate-of-other\"><img alt=\"Take care, be kind, be considerate of other people and other species, and be loving. #&lt;Author:0x00007f67f6705890&gt;\" class=\"margin-10px-bottom shadow\" height=\"310\" src=\"https://assets.passiton.com/quotes/quote_artwork/8117/medium/20200827_thursday_quote.jpg?1597869639\" width=\"310\"/></a>\n",
       " <h5 class=\"value_on_red\"><a href=\"/inspirational-quotes/8117-take-care-be-kind-be-considerate-of-other\">COURTESY</a></h5>\n",
       " </div>,\n",
       " <div class=\"col-6 col-lg-3 text-center margin-30px-bottom sm-margin-30px-top\">\n",
       " <a href=\"/inspirational-quotes/8116-real-strength-entails-being-considerate-and\"><img alt=\"Real strength entails being considerate and supportive of people's feelings. #&lt;Author:0x00007f67f6726b08&gt;\" class=\"margin-10px-bottom shadow\" height=\"310\" src=\"https://assets.passiton.com/quotes/quote_artwork/8116/medium/20200826_wednesday_quote.jpg?1597869555\" width=\"310\"/></a>\n",
       " <h5 class=\"value_on_red\"><a href=\"/inspirational-quotes/8116-real-strength-entails-being-considerate-and\">COURTESY</a></h5>\n",
       " </div>,\n",
       " <div class=\"col-6 col-lg-3 text-center margin-30px-bottom sm-margin-30px-top\">\n",
       " <a href=\"/inspirational-quotes/8119-life-is-short-but-there-is-always-time-enough\"><img alt=\"Life is short but there is always time enough for courtesy. #&lt;Author:0x00007f67f67488c0&gt;\" class=\"margin-10px-bottom shadow\" height=\"310\" src=\"https://assets.passiton.com/quotes/quote_artwork/8119/medium/20200825_tuesday_quote.jpg?1597869487\" width=\"310\"/></a>\n",
       " <h5 class=\"value_on_red\"><a href=\"/inspirational-quotes/8119-life-is-short-but-there-is-always-time-enough\">COURTESY</a></h5>\n",
       " </div>,\n",
       " <div class=\"col-6 col-lg-3 text-center margin-30px-bottom sm-margin-30px-top\">\n",
       " <a href=\"/inspirational-quotes/7795-a-tree-is-known-by-its-fruit-a-person-by-their\"><img alt=\"A tree is known by its fruit; a person by their deeds. A good deed is never lost; whoever sows courtesy reaps friendship, and whoever plants kindness gathers love. #&lt;Author:0x00007f67f6768a08&gt;\" class=\"margin-10px-bottom shadow\" height=\"310\" src=\"https://assets.passiton.com/quotes/quote_artwork/7795/medium/20200824_monday_quote.jpg?1597868996\" width=\"310\"/></a>\n",
       " <h5 class=\"value_on_red\"><a href=\"/inspirational-quotes/7795-a-tree-is-known-by-its-fruit-a-person-by-their\">COURTESY</a></h5>\n",
       " </div>,\n",
       " <div class=\"col-6 col-lg-3 text-center margin-30px-bottom sm-margin-30px-top\">\n",
       " <a href=\"/inspirational-quotes/8114-if-you-were-born-with-the-weakness-to-fall-you\"><img alt=\"If you were born with the weakness to fall. You were born with the strength to rise. #&lt;Author:0x00007f67f678e7a8&gt;\" class=\"margin-10px-bottom shadow\" height=\"310\" src=\"https://assets.passiton.com/quotes/quote_artwork/8114/medium/20200821_friday_quote.jpg?1597353972\" width=\"310\"/></a>\n",
       " <h5 class=\"value_on_red\"><a href=\"/inspirational-quotes/8114-if-you-were-born-with-the-weakness-to-fall-you\">STRENGTH</a></h5>\n",
       " </div>,\n",
       " <div class=\"col-6 col-lg-3 text-center margin-30px-bottom sm-margin-30px-top\">\n",
       " <a href=\"/inspirational-quotes/6926-maybe-who-we-are-isnt-so-much-about-what-we-do\"><img alt=\"Maybe who we are isn't so much about what we do, but rather what we're capable of when we least expect it. #&lt;Author:0x00007f67f67b6528&gt;\" class=\"margin-10px-bottom shadow\" height=\"310\" src=\"https://assets.passiton.com/quotes/quote_artwork/6926/medium/20200820_thursday_quote.jpg?1597353926\" width=\"310\"/></a>\n",
       " <h5 class=\"value_on_red\"><a href=\"/inspirational-quotes/6926-maybe-who-we-are-isnt-so-much-about-what-we-do\">STRENGTH</a></h5>\n",
       " </div>,\n",
       " <div class=\"col-6 col-lg-3 text-center margin-30px-bottom sm-margin-30px-top\">\n",
       " <a href=\"/inspirational-quotes/8113-for-what-it-s-worth-it-s-never-too-late-to-be\"><img alt=\"For what it’s worth: It’s never too late to be whoever you want to be. I hope you live a life you’re proud of, and if you find you’re not, I hope you have the strength to start over again. #&lt;Author:0x00007f67f67dcc78&gt;\" class=\"margin-10px-bottom shadow\" height=\"310\" src=\"https://assets.passiton.com/quotes/quote_artwork/8113/medium/20200819_wednesday_quote.jpg?1597353876\" width=\"310\"/></a>\n",
       " <h5 class=\"value_on_red\"><a href=\"/inspirational-quotes/8113-for-what-it-s-worth-it-s-never-too-late-to-be\">STRENGTH</a></h5>\n",
       " </div>,\n",
       " <div class=\"col-6 col-lg-3 text-center margin-30px-bottom sm-margin-30px-top\">\n",
       " <a href=\"/inspirational-quotes/8112-when-something-bad-happens-you-have-three\"><img alt=\"When something bad happens you have three choices. You can let it define you, let it destroy you, or you can let it strengthen you. #&lt;Author:0x00007f67f6812468&gt;\" class=\"margin-10px-bottom shadow\" height=\"310\" src=\"https://assets.passiton.com/quotes/quote_artwork/8112/medium/20200818_tuesday_quote.jpg?1597353822\" width=\"310\"/></a>\n",
       " <h5 class=\"value_on_red\"><a href=\"/inspirational-quotes/8112-when-something-bad-happens-you-have-three\">STRENGTH</a></h5>\n",
       " </div>,\n",
       " <div class=\"col-6 col-lg-3 text-center margin-30px-bottom sm-margin-30px-top\">\n",
       " <a href=\"/inspirational-quotes/8111-a-true-hero-isn-t-measured-by-the-size-of-their\"><img alt=\"A true hero isn’t measured by the size of their strength, but by the strength of their heart. #&lt;Author:0x00007f67f681d1d8&gt;\" class=\"margin-10px-bottom shadow\" height=\"310\" src=\"https://assets.passiton.com/quotes/quote_artwork/8111/medium/20200817_monday_quote.jpg?1597353760\" width=\"310\"/></a>\n",
       " <h5 class=\"value_on_red\"><a href=\"/inspirational-quotes/8111-a-true-hero-isn-t-measured-by-the-size-of-their\">STRENGTH</a></h5>\n",
       " </div>,\n",
       " <div class=\"col-6 col-lg-3 text-center margin-30px-bottom sm-margin-30px-top\">\n",
       " <a href=\"/inspirational-quotes/8109-nature-has-been-for-me-for-as-long-as-i\"><img alt=\"Nature has been for me, for as long as I remember, a source of solace, inspiration, adventure, and delight; a home, a teacher, a companion. #&lt;Author:0x00007f67f6830170&gt;\" class=\"margin-10px-bottom shadow\" height=\"310\" src=\"https://assets.passiton.com/quotes/quote_artwork/8109/medium/20200814_friday_quote.jpg?1596663210\" width=\"310\"/></a>\n",
       " <h5 class=\"value_on_red\"><a href=\"/inspirational-quotes/8109-nature-has-been-for-me-for-as-long-as-i\">APPRECIATING NATURE</a></h5>\n",
       " </div>,\n",
       " <div class=\"col-6 col-lg-3 text-center margin-30px-bottom sm-margin-30px-top\">\n",
       " <a href=\"/inspirational-quotes/8110-i-took-a-walk-in-the-woods-and-came-out-taller\"><img alt=\"I took a walk in the woods and came out taller than the trees. #&lt;Author:0x00007f67f6866180&gt;\" class=\"margin-10px-bottom shadow\" height=\"310\" src=\"https://assets.passiton.com/quotes/quote_artwork/8110/medium/20200813_thursday_quote_alt2.jpg?1596841457\" width=\"310\"/></a>\n",
       " <h5 class=\"value_on_red\"><a href=\"/inspirational-quotes/8110-i-took-a-walk-in-the-woods-and-came-out-taller\">APPRECIATING NATURE</a></h5>\n",
       " </div>,\n",
       " <div class=\"col-6 col-lg-3 text-center margin-30px-bottom sm-margin-30px-top\">\n",
       " <a href=\"/inspirational-quotes/8108-there-is-something-infinitely-healing-in-the\"><img alt=\"There is something infinitely healing in the repeated refrains of nature – the assurance that dawn comes after night, and spring after winter. #&lt;Author:0x00007f67f6888b18&gt;\" class=\"margin-10px-bottom shadow\" height=\"310\" src=\"https://assets.passiton.com/quotes/quote_artwork/8108/medium/rachel_carson_fixed.jpg?1597769516\" width=\"310\"/></a>\n",
       " <h5 class=\"value_on_red\"><a href=\"/inspirational-quotes/8108-there-is-something-infinitely-healing-in-the\">APPRECIATING NATURE</a></h5>\n",
       " </div>,\n",
       " <div class=\"col-6 col-lg-3 text-center margin-30px-bottom sm-margin-30px-top\">\n",
       " <a href=\"/inspirational-quotes/8107-a-walk-in-nature-walks-the-soul-back-home\"><img alt=\"A walk in nature, walks the soul back home. #&lt;Author:0x00007f67f68ad788&gt;\" class=\"margin-10px-bottom shadow\" height=\"310\" src=\"https://assets.passiton.com/quotes/quote_artwork/8107/medium/20200811_tuesday_quote.jpg?1596663032\" width=\"310\"/></a>\n",
       " <h5 class=\"value_on_red\"><a href=\"/inspirational-quotes/8107-a-walk-in-nature-walks-the-soul-back-home\">APPRECIATING NATURE</a></h5>\n",
       " </div>,\n",
       " <div class=\"col-6 col-lg-3 text-center margin-30px-bottom sm-margin-30px-top\">\n",
       " <a href=\"/inspirational-quotes/7508-i-felt-my-lungs-inflate-with-the-onrush-of\"><img alt=\"I felt my lungs inflate with the onrush of scenery—air, mountains, trees, people. I thought, ‘This is what it is to be happy.’ #&lt;Author:0x00007f67f68ca1d0&gt;\" class=\"margin-10px-bottom shadow\" height=\"310\" src=\"https://assets.passiton.com/quotes/quote_artwork/7508/medium/20200810_monday_quote.jpg?1596662943\" width=\"310\"/></a>\n",
       " <h5 class=\"value_on_red\"><a href=\"/inspirational-quotes/7508-i-felt-my-lungs-inflate-with-the-onrush-of\">APPRECIATING NATURE</a></h5>\n",
       " </div>,\n",
       " <div class=\"col-6 col-lg-3 text-center margin-30px-bottom sm-margin-30px-top\">\n",
       " <a href=\"/inspirational-quotes/4746-it-always-seems-impossible-until-its-done\"><img alt=\"It always seems impossible until its done. #&lt;Author:0x00007f67f68e4be8&gt;\" class=\"margin-10px-bottom shadow\" height=\"310\" src=\"https://assets.passiton.com/quotes/quote_artwork/4746/medium/20200807_friday_quote.jpg?1596496094\" width=\"310\"/></a>\n",
       " <h5 class=\"value_on_red\"><a href=\"/inspirational-quotes/4746-it-always-seems-impossible-until-its-done\">PERSEVERANCE</a></h5>\n",
       " </div>,\n",
       " <div class=\"col-6 col-lg-3 text-center margin-30px-bottom sm-margin-30px-top\">\n",
       " <a href=\"/inspirational-quotes/8105-great-things-come-from-hard-work-and\"><img alt=\"Great things come from hard work and perseverance. No excuses. #&lt;Author:0x00007f67f690a2d0&gt;\" class=\"margin-10px-bottom shadow\" height=\"310\" src=\"https://assets.passiton.com/quotes/quote_artwork/8105/medium/20200806_thursday_quote.jpg?1596213320\" width=\"310\"/></a>\n",
       " <h5 class=\"value_on_red\"><a href=\"/inspirational-quotes/8105-great-things-come-from-hard-work-and\">PERSEVERANCE</a></h5>\n",
       " </div>,\n",
       " <div class=\"col-6 col-lg-3 text-center margin-30px-bottom sm-margin-30px-top\">\n",
       " <a href=\"/inspirational-quotes/3016-patience-and-perseverance-have-a-magical-effect\"><img alt=\"Patience and perseverance have a magical effect before which difficulties disappear and obstacles vanish. #&lt;Author:0x00007f67f69249c8&gt;\" class=\"margin-10px-bottom shadow\" height=\"310\" src=\"https://assets.passiton.com/quotes/quote_artwork/3016/medium/20200805_wednesday_quote.jpg?1596213293\" width=\"310\"/></a>\n",
       " <h5 class=\"value_on_red\"><a href=\"/inspirational-quotes/3016-patience-and-perseverance-have-a-magical-effect\">PERSEVERANCE</a></h5>\n",
       " </div>,\n",
       " <div class=\"col-6 col-lg-3 text-center margin-30px-bottom sm-margin-30px-top\">\n",
       " <a href=\"/inspirational-quotes/8104-today-if-anything-is-trying-to-hold-you-back\"><img alt=\"Today if anything is trying to hold you back, give no attention to it. Get your hopes up, get your faith up, look up, and get ready to rise up. #&lt;Author:0x00007f67f694f308&gt;\" class=\"margin-10px-bottom shadow\" height=\"310\" src=\"https://assets.passiton.com/quotes/quote_artwork/8104/medium/20200804_tuesday_quote.jpg?1596213265\" width=\"310\"/></a>\n",
       " <h5 class=\"value_on_red\"><a href=\"/inspirational-quotes/8104-today-if-anything-is-trying-to-hold-you-back\">PERSEVERANCE</a></h5>\n",
       " </div>,\n",
       " <div class=\"col-6 col-lg-3 text-center margin-30px-bottom sm-margin-30px-top\">\n",
       " <a href=\"/inspirational-quotes/3962-i-think-a-hero-is-an-ordinary-individual-who\"><img alt=\"I think a hero is an ordinary individual who finds strength to persevere and endure in spite of overwhelming obstacles. #&lt;Author:0x00007f67f69693e8&gt;\" class=\"margin-10px-bottom shadow\" height=\"310\" src=\"https://assets.passiton.com/quotes/quote_artwork/3962/medium/20200803_monday_quote.jpg?1596213242\" width=\"310\"/></a>\n",
       " <h5 class=\"value_on_red\"><a href=\"/inspirational-quotes/3962-i-think-a-hero-is-an-ordinary-individual-who\">PERSEVERANCE</a></h5>\n",
       " </div>,\n",
       " <div class=\"col-6 col-lg-3 text-center margin-30px-bottom sm-margin-30px-top\">\n",
       " <a href=\"/inspirational-quotes/3123-a-smile-starts-on-the-lips-a-grin-spreads-to\"><img alt=\"A smile starts on the lips, A grin spreads to the eyes, A chuckle comes from the belly; But a good laugh bursts forth from the soul, Overflows, and bubbles all around. #&lt;Author:0x00007f67f6993f30&gt;\" class=\"margin-10px-bottom shadow\" height=\"310\" src=\"https://assets.passiton.com/quotes/quote_artwork/3123/medium/20200331_friday_quote.jpg?1595634378\" width=\"310\"/></a>\n",
       " <h5 class=\"value_on_red\"><a href=\"/inspirational-quotes/3123-a-smile-starts-on-the-lips-a-grin-spreads-to\">LAUGHTER</a></h5>\n",
       " </div>,\n",
       " <div class=\"col-6 col-lg-3 text-center margin-30px-bottom sm-margin-30px-top\">\n",
       " <a href=\"/inspirational-quotes/8051-in-this-world-a-good-time-to-laugh-is-any-time\"><img alt=\"In this world, a good time to laugh is any time you can.  #&lt;Author:0x00007f67f69ae5b0&gt;\" class=\"margin-10px-bottom shadow\" height=\"310\" src=\"https://assets.passiton.com/quotes/quote_artwork/8051/medium/20200330_thursday_quote.jpg?1595634324\" width=\"310\"/></a>\n",
       " <h5 class=\"value_on_red\"><a href=\"/inspirational-quotes/8051-in-this-world-a-good-time-to-laugh-is-any-time\">LAUGHTER</a></h5>\n",
       " </div>,\n",
       " <div class=\"col-6 col-lg-3 text-center margin-30px-bottom sm-margin-30px-top\">\n",
       " <a href=\"/inspirational-quotes/6829-to-thrive-in-life-you-need-three-bones-a\"><img alt=\"To thrive in life you need three bones. A wishbone. A backbone. And a funny bone. #&lt;Author:0x00007f67f69d7f50&gt;\" class=\"margin-10px-bottom shadow\" height=\"310\" src=\"https://assets.passiton.com/quotes/quote_artwork/6829/medium/20200329_wednesday_quote.jpg?1595634221\" width=\"310\"/></a>\n",
       " <h5 class=\"value_on_red\"><a href=\"/inspirational-quotes/6829-to-thrive-in-life-you-need-three-bones-a\">LAUGHTER</a></h5>\n",
       " </div>,\n",
       " <div class=\"col-6 col-lg-3 text-center margin-30px-bottom sm-margin-30px-top\">\n",
       " <a href=\"/inspirational-quotes/7465-what-soap-is-to-the-body-laughter-is-to-the-soul\"><img alt=\"What soap is to the body, laughter is to the soul. #&lt;Author:0x00007f67f69f0e60&gt;\" class=\"margin-10px-bottom shadow\" height=\"310\" src=\"https://assets.passiton.com/quotes/quote_artwork/7465/medium/20200328_tuesday_quote.jpg?1595634197\" width=\"310\"/></a>\n",
       " <h5 class=\"value_on_red\"><a href=\"/inspirational-quotes/7465-what-soap-is-to-the-body-laughter-is-to-the-soul\">LAUGHTER</a></h5>\n",
       " </div>,\n",
       " <div class=\"col-6 col-lg-3 text-center margin-30px-bottom sm-margin-30px-top\">\n",
       " <a href=\"/inspirational-quotes/8050-i-honestly-think-its-the-thing-i-like-most-to\"><img alt=\"I honestly think it's the thing I like most, to laugh. It cures a multitude of ills. It's probably the most important thing in a person. #&lt;Author:0x00007f67f6a12ba0&gt;\" class=\"margin-10px-bottom shadow\" height=\"310\" src=\"https://assets.passiton.com/quotes/quote_artwork/8050/medium/20200327_monday_quote.jpg?1595634171\" width=\"310\"/></a>\n",
       " <h5 class=\"value_on_red\"><a href=\"/inspirational-quotes/8050-i-honestly-think-its-the-thing-i-like-most-to\">LAUGHTER</a></h5>\n",
       " </div>,\n",
       " <div class=\"col-6 col-lg-3 text-center margin-30px-bottom sm-margin-30px-top\">\n",
       " <a href=\"/inspirational-quotes/8103-good-character-is-the-single-most-important\"><img alt=\"Good character is the single most important attribute of a successful and worthy life. #&lt;Author:0x00007f67f6a317f8&gt;\" class=\"margin-10px-bottom shadow\" height=\"310\" src=\"https://assets.passiton.com/quotes/quote_artwork/8103/medium/20200724_friday_quote.jpg?1595011033\" width=\"310\"/></a>\n",
       " <h5 class=\"value_on_red\"><a href=\"/inspirational-quotes/8103-good-character-is-the-single-most-important\">CHARACTER</a></h5>\n",
       " </div>,\n",
       " <div class=\"col-6 col-lg-3 text-center margin-30px-bottom sm-margin-30px-top\">\n",
       " <a href=\"/inspirational-quotes/8102-just-as-we-develop-our-physical-muscles-through\"><img alt=\"Just as we develop our physical muscles through overcoming opposition – such as lifting weights – we develop our character muscles by overcoming challenges and adversity. #&lt;Author:0x00007f67f6a55b80&gt;\" class=\"margin-10px-bottom shadow\" height=\"310\" src=\"https://assets.passiton.com/quotes/quote_artwork/8102/medium/20200723_thursday_quote.jpg?1595011009\" width=\"310\"/></a>\n",
       " <h5 class=\"value_on_red\"><a href=\"/inspirational-quotes/8102-just-as-we-develop-our-physical-muscles-through\">CHARACTER</a></h5>\n",
       " </div>,\n",
       " <div class=\"col-6 col-lg-3 text-center margin-30px-bottom sm-margin-30px-top\">\n",
       " <a href=\"/inspirational-quotes/8101-our-ability-to-handle-life-s-challenges-is-a\"><img alt=\"Our ability to handle life’s challenges is a measure of our strength of character. #&lt;Author:0x00007f67f6a7fae8&gt;\" class=\"margin-10px-bottom shadow\" height=\"310\" src=\"https://assets.passiton.com/quotes/quote_artwork/8101/medium/20200722_wednesday_quote.jpg?1595010982\" width=\"310\"/></a>\n",
       " <h5 class=\"value_on_red\"><a href=\"/inspirational-quotes/8101-our-ability-to-handle-life-s-challenges-is-a\">CHARACTER</a></h5>\n",
       " </div>,\n",
       " <div class=\"col-6 col-lg-3 text-center margin-30px-bottom sm-margin-30px-top\">\n",
       " <a href=\"/inspirational-quotes/7364-good-character-is-more-to-be-praised-than\"><img alt=\"Good character is more to be praised than outstanding talent. Most talents are to some extent a gift. Good character, by contrast, is not given to us. We have to build it piece by piece by thought, choice, courage and determination. #&lt;Author:0x00007f67f6a99e98&gt;\" class=\"margin-10px-bottom shadow\" height=\"310\" src=\"https://assets.passiton.com/quotes/quote_artwork/7364/medium/20200721_tuesday_quote.jpg?1595010959\" width=\"310\"/></a>\n",
       " <h5 class=\"value_on_red\"><a href=\"/inspirational-quotes/7364-good-character-is-more-to-be-praised-than\">CHARACTER</a></h5>\n",
       " </div>,\n",
       " <div class=\"col-6 col-lg-3 text-center margin-30px-bottom sm-margin-30px-top\">\n",
       " <a href=\"/inspirational-quotes/4393-people-grow-through-experience-if-they-meet\"><img alt=\"People grow through experience if they meet life honestly and courageously. This is how character is built. #&lt;Author:0x00007f67f6ab41f8&gt;\" class=\"margin-10px-bottom shadow\" height=\"310\" src=\"https://assets.passiton.com/quotes/quote_artwork/4393/medium/20200720_monday_quote.jpg?1595010931\" width=\"310\"/></a>\n",
       " <h5 class=\"value_on_red\"><a href=\"/inspirational-quotes/4393-people-grow-through-experience-if-they-meet\">CHARACTER</a></h5>\n",
       " </div>,\n",
       " <div class=\"col-6 col-lg-3 text-center margin-30px-bottom sm-margin-30px-top\">\n",
       " <a href=\"/inspirational-quotes/8100-a-life-lived-with-integrity-is-a-shining-star\"><img alt=\"A life lived with integrity… is a shining star in whose light others may follow in the years to come. #&lt;Author:0x00007f67f6af45a0&gt;\" class=\"margin-10px-bottom shadow\" height=\"310\" src=\"https://assets.passiton.com/quotes/quote_artwork/8100/medium/20200717_friday_quote.jpg?1594411651\" width=\"310\"/></a>\n",
       " <h5 class=\"value_on_red\"><a href=\"/inspirational-quotes/8100-a-life-lived-with-integrity-is-a-shining-star\">INTEGRITY</a></h5>\n",
       " </div>,\n",
       " <div class=\"col-6 col-lg-3 text-center margin-30px-bottom sm-margin-30px-top\">\n",
       " <a href=\"/inspirational-quotes/8099-the-greatness-of-a-man-is-not-in-how-much\"><img alt=\"The greatness of a man is not in how much wealth he acquires, but in his integrity and his ability to affect those around him positively. #&lt;Author:0x00007f67f6b0c8d0&gt;\" class=\"margin-10px-bottom shadow\" height=\"310\" src=\"https://assets.passiton.com/quotes/quote_artwork/8099/medium/20200716_thursday_quote.jpg?1594411624\" width=\"310\"/></a>\n",
       " <h5 class=\"value_on_red\"><a href=\"/inspirational-quotes/8099-the-greatness-of-a-man-is-not-in-how-much\">INTEGRITY</a></h5>\n",
       " </div>,\n",
       " <div class=\"col-6 col-lg-3 text-center margin-30px-bottom sm-margin-30px-top\">\n",
       " <a href=\"/inspirational-quotes/7654-real-integrity-is-doing-the-right-thing\"><img alt=\"Real integrity is doing the right thing, knowing that nobody’s going to know whether you did it or not. #&lt;Author:0x00007f67f6b32c38&gt;\" class=\"margin-10px-bottom shadow\" height=\"310\" src=\"https://assets.passiton.com/quotes/quote_artwork/7654/medium/20200715_wednesday_quote.jpg?1594411583\" width=\"310\"/></a>\n",
       " <h5 class=\"value_on_red\"><a href=\"/inspirational-quotes/7654-real-integrity-is-doing-the-right-thing\">INTEGRITY</a></h5>\n",
       " </div>]"
      ]
     },
     "execution_count": 7,
     "metadata": {},
     "output_type": "execute_result"
    }
   ],
   "source": [
    "data_all=soup.findAll('div',{'class':'col-6 col-lg-3 text-center margin-30px-bottom sm-margin-30px-top'})\n",
    "data_all"
   ]
  },
  {
   "cell_type": "code",
   "execution_count": 8,
   "metadata": {},
   "outputs": [
    {
     "data": {
      "text/plain": [
       "<div class=\"col-6 col-lg-3 text-center margin-30px-bottom sm-margin-30px-top\">\n",
       "<a href=\"/inspirational-quotes/8117-take-care-be-kind-be-considerate-of-other\"><img alt=\"Take care, be kind, be considerate of other people and other species, and be loving. #&lt;Author:0x00007f67f6705890&gt;\" class=\"margin-10px-bottom shadow\" height=\"310\" src=\"https://assets.passiton.com/quotes/quote_artwork/8117/medium/20200827_thursday_quote.jpg?1597869639\" width=\"310\"/></a>\n",
       "<h5 class=\"value_on_red\"><a href=\"/inspirational-quotes/8117-take-care-be-kind-be-considerate-of-other\">COURTESY</a></h5>\n",
       "</div>"
      ]
     },
     "execution_count": 8,
     "metadata": {},
     "output_type": "execute_result"
    }
   ],
   "source": [
    "data=data_all[0]\n",
    "data"
   ]
  },
  {
   "cell_type": "code",
   "execution_count": 9,
   "metadata": {},
   "outputs": [
    {
     "data": {
      "text/plain": [
       "<img alt=\"Take care, be kind, be considerate of other people and other species, and be loving. #&lt;Author:0x00007f67f6705890&gt;\" class=\"margin-10px-bottom shadow\" height=\"310\" src=\"https://assets.passiton.com/quotes/quote_artwork/8117/medium/20200827_thursday_quote.jpg?1597869639\" width=\"310\"/>"
      ]
     },
     "execution_count": 9,
     "metadata": {},
     "output_type": "execute_result"
    }
   ],
   "source": [
    "data.img"
   ]
  },
  {
   "cell_type": "code",
   "execution_count": 10,
   "metadata": {},
   "outputs": [
    {
     "name": "stdout",
     "output_type": "stream",
     "text": [
      "https://assets.passiton.com/quotes/quote_artwork/8117/medium/20200827_thursday_quote.jpg?1597869639\n",
      "1597869639\n"
     ]
    }
   ],
   "source": [
    "loc=data.img.attrs['src']\n",
    "print(loc)\n",
    "no=str(loc[-10:])\n",
    "print(no)"
   ]
  },
  {
   "cell_type": "code",
   "execution_count": 11,
   "metadata": {},
   "outputs": [],
   "source": [
    "with open('./img/Inspiration'+no+'.jpg','wb') as file:\n",
    "    response=requests.get(loc)\n",
    "    file.write(response.content)"
   ]
  },
  {
   "cell_type": "code",
   "execution_count": 12,
   "metadata": {},
   "outputs": [],
   "source": [
    "##### either we use this and slice id from loc\n",
    "for data in data_all:\n",
    "    loc=data.img.attrs['src']\n",
    "    no=str(loc[-10:])\n",
    "    with open('./img/Inspiration'+no+'.jpg','wb') as file:\n",
    "        response=requests.get(loc)\n",
    "        file.write(response.content)"
   ]
  },
  {
   "cell_type": "code",
   "execution_count": null,
   "metadata": {},
   "outputs": [],
   "source": [
    "###### we may use enumerator also and automatically id them as 0 ,1 , 2,......\n",
    "for i,data in enumerate(data_all):\n",
    "    loc=data.img.attrs['src']\n",
    "    with open('./img/Inspiration{}.jpg'.format(i),'wb') as file:\n",
    "        response=requests.get(loc)\n",
    "        file.write(response.content)\n"
   ]
  },
  {
   "cell_type": "code",
   "execution_count": null,
   "metadata": {},
   "outputs": [],
   "source": []
  }
 ],
 "metadata": {
  "kernelspec": {
   "display_name": "Python 3",
   "language": "python",
   "name": "python3"
  },
  "language_info": {
   "codemirror_mode": {
    "name": "ipython",
    "version": 3
   },
   "file_extension": ".py",
   "mimetype": "text/x-python",
   "name": "python",
   "nbconvert_exporter": "python",
   "pygments_lexer": "ipython3",
   "version": "3.8.3"
  }
 },
 "nbformat": 4,
 "nbformat_minor": 2
}
