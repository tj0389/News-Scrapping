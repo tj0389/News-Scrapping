{
 "cells": [
  {
   "cell_type": "code",
   "execution_count": 1,
   "metadata": {},
   "outputs": [],
   "source": [
    "import bs4\n",
    "import requests"
   ]
  },
  {
   "cell_type": "code",
   "execution_count": 2,
   "metadata": {},
   "outputs": [],
   "source": [
    "url=\"https://www.passiton.com/inspirational-quotes\""
   ]
  },
  {
   "cell_type": "code",
   "execution_count": 3,
   "metadata": {},
   "outputs": [],
   "source": [
    "data=requests.get(url)"
   ]
  },
  {
   "cell_type": "code",
   "execution_count": 4,
   "metadata": {},
   "outputs": [],
   "source": [
    "#data.content"
   ]
  },
  {
   "cell_type": "code",
   "execution_count": 5,
   "metadata": {},
   "outputs": [],
   "source": [
    "#HTMLParser return object\n",
    "soup=bs4.BeautifulSoup(data.content)\n",
    "#soup"
   ]
  },
  {
   "cell_type": "code",
   "execution_count": 6,
   "metadata": {},
   "outputs": [],
   "source": [
    "#article_element=soup.findAll('div',{'class':'row','id':'all_quotes'})"
   ]
  },
  {
   "cell_type": "code",
   "execution_count": 7,
   "metadata": {},
   "outputs": [
    {
     "data": {
      "text/plain": [
       "[<div class=\"col-6 col-lg-3 text-center margin-30px-bottom sm-margin-30px-top\">\n",
       " <a href=\"/inspirational-quotes/8150-but-where-was-i-to-start-the-world-is-so-vast\"><img alt=\"But where was I to start? The world is so vast, I shall start with the country I know best, my own. But my country is so very large. I had better start with my town. But my town too, is large. I had best start with my street. No: my home. No: my family. Never mind, I shall start with myself. #&lt;Author:0x00007f7a405adc70&gt;\" class=\"margin-10px-bottom shadow\" height=\"310\" src=\"https://assets.passiton.com/quotes/quote_artwork/8150/medium/20201029_thursday_quote.jpg?1603383758\" width=\"310\"/></a>\n",
       " <h5 class=\"value_on_red\"><a href=\"/inspirational-quotes/8150-but-where-was-i-to-start-the-world-is-so-vast\">MAKING A DIFFERENCE</a></h5>\n",
       " </div>,\n",
       " <div class=\"col-6 col-lg-3 text-center margin-30px-bottom sm-margin-30px-top\">\n",
       " <a href=\"/inspirational-quotes/8149-each-one-of-us-can-make-a-difference-together\"><img alt=\"Each one of us can make a difference. Together we make a change. #&lt;Author:0x00007f7a405d7368&gt;\" class=\"margin-10px-bottom shadow\" height=\"310\" src=\"https://assets.passiton.com/quotes/quote_artwork/8149/medium/20201026_monday_quote.jpg?1603383688\" width=\"310\"/></a>\n",
       " <h5 class=\"value_on_red\"><a href=\"/inspirational-quotes/8149-each-one-of-us-can-make-a-difference-together\">MAKING A DIFFERENCE</a></h5>\n",
       " </div>,\n",
       " <div class=\"col-6 col-lg-3 text-center margin-30px-bottom sm-margin-30px-top\">\n",
       " <a href=\"/inspirational-quotes/4128-in-this-life-we-cannot-always-do-great-things\"><img alt=\"In this life we cannot always do great things. But we can do small things with great love. #&lt;Author:0x00007f7a40633438&gt;\" class=\"margin-10px-bottom shadow\" height=\"310\" src=\"https://assets.passiton.com/quotes/quote_artwork/4128/medium/20201028_wednesday_quote.jpg?1603383733\" width=\"310\"/></a>\n",
       " <h5 class=\"value_on_red\"><a href=\"/inspirational-quotes/4128-in-this-life-we-cannot-always-do-great-things\">MAKING A DIFFERENCE</a></h5>\n",
       " </div>,\n",
       " <div class=\"col-6 col-lg-3 text-center margin-30px-bottom sm-margin-30px-top\">\n",
       " <a href=\"/inspirational-quotes/6826-we-do-not-need-magic-to-transform-our-world-we\"><img alt=\"We do not need magic to transform our world. We carry all the power we need inside ourselves already. We have the power to imagine better. #&lt;Author:0x00007f7a4066a5a0&gt;\" class=\"margin-10px-bottom shadow\" height=\"310\" src=\"https://assets.passiton.com/quotes/quote_artwork/6826/medium/20201027_tuesday_quote.jpg?1603383711\" width=\"310\"/></a>\n",
       " <h5 class=\"value_on_red\"><a href=\"/inspirational-quotes/6826-we-do-not-need-magic-to-transform-our-world-we\">MAKING A DIFFERENCE</a></h5>\n",
       " </div>,\n",
       " <div class=\"col-6 col-lg-3 text-center margin-30px-bottom sm-margin-30px-top\">\n",
       " <a href=\"/inspirational-quotes/3752-the-only-place-success-comes-before-work-is-in\"><img alt=\"The only place success comes before work is in the dictionary. #&lt;Author:0x00007f7a406a4f98&gt;\" class=\"margin-10px-bottom shadow\" height=\"310\" src=\"https://assets.passiton.com/quotes/quote_artwork/3752/medium/20201023_friday_quote_update.jpg?1602883670\" width=\"310\"/></a>\n",
       " <h5 class=\"value_on_red\"><a href=\"/inspirational-quotes/3752-the-only-place-success-comes-before-work-is-in\">HARD WORK</a></h5>\n",
       " </div>,\n",
       " <div class=\"col-6 col-lg-3 text-center margin-30px-bottom sm-margin-30px-top\">\n",
       " <a href=\"/inspirational-quotes/7750-a-dream-doesnt-become-reality-through-magic-it\"><img alt=\"A dream doesn't become reality through magic; it takes sweat, determination, and hard work. #&lt;Author:0x00007f7a406d5ff8&gt;\" class=\"margin-10px-bottom shadow\" height=\"310\" src=\"https://assets.passiton.com/quotes/quote_artwork/7750/medium/20201022_thursday_quote_update.jpg?1602883540\" width=\"310\"/></a>\n",
       " <h5 class=\"value_on_red\"><a href=\"/inspirational-quotes/7750-a-dream-doesnt-become-reality-through-magic-it\">HARD WORK</a></h5>\n",
       " </div>,\n",
       " <div class=\"col-6 col-lg-3 text-center margin-30px-bottom sm-margin-30px-top\">\n",
       " <a href=\"/inspirational-quotes/8147-work-hard-at-work-worth-doing\"><img alt=\"Work hard at work worth doing.  #&lt;Author:0x00007f7a407122a0&gt;\" class=\"margin-10px-bottom shadow\" height=\"310\" src=\"https://assets.passiton.com/quotes/quote_artwork/8147/medium/20201021_wednesday_quote.jpg?1602872491\" width=\"310\"/></a>\n",
       " <h5 class=\"value_on_red\"><a href=\"/inspirational-quotes/8147-work-hard-at-work-worth-doing\">HARD WORK</a></h5>\n",
       " </div>,\n",
       " <div class=\"col-6 col-lg-3 text-center margin-30px-bottom sm-margin-30px-top\">\n",
       " <a href=\"/inspirational-quotes/8146-the-only-limit-to-the-height-of-your\"><img alt=\"The only limit to the height of your achievements is the reach of your dreams and your willingness to work hard for them. #&lt;Author:0x00007f7a40750de8&gt;\" class=\"margin-10px-bottom shadow\" height=\"310\" src=\"https://assets.passiton.com/quotes/quote_artwork/8146/medium/20201020_tuesday_quote.jpg?1602872463\" width=\"310\"/></a>\n",
       " <h5 class=\"value_on_red\"><a href=\"/inspirational-quotes/8146-the-only-limit-to-the-height-of-your\">HARD WORK</a></h5>\n",
       " </div>,\n",
       " <div class=\"col-6 col-lg-3 text-center margin-30px-bottom sm-margin-30px-top\">\n",
       " <a href=\"/inspirational-quotes/4704-work-hard-be-kind-and-amazing-things-will\"><img alt=\"Work hard, be kind, and amazing things will happen. #&lt;Author:0x00007f7a40785ae8&gt;\" class=\"margin-10px-bottom shadow\" height=\"310\" src=\"https://assets.passiton.com/quotes/quote_artwork/4704/medium/20201019_monday_quote.jpg?1602872415\" width=\"310\"/></a>\n",
       " <h5 class=\"value_on_red\"><a href=\"/inspirational-quotes/4704-work-hard-be-kind-and-amazing-things-will\">HARD WORK</a></h5>\n",
       " </div>,\n",
       " <div class=\"col-6 col-lg-3 text-center margin-30px-bottom sm-margin-30px-top\">\n",
       " <a href=\"/inspirational-quotes/8145-if-you-see-someone-without-a-smile-give-them\"><img alt=\"If you see someone without a smile, give them one of yours. #&lt;Author:0x00007f7a407c6390&gt;\" class=\"margin-10px-bottom shadow\" height=\"310\" src=\"https://assets.passiton.com/quotes/quote_artwork/8145/medium/20201016_friday_quote.jpg?1602195654\" width=\"310\"/></a>\n",
       " <h5 class=\"value_on_red\"><a href=\"/inspirational-quotes/8145-if-you-see-someone-without-a-smile-give-them\">SMILE</a></h5>\n",
       " </div>,\n",
       " <div class=\"col-6 col-lg-3 text-center margin-30px-bottom sm-margin-30px-top\">\n",
       " <a href=\"/inspirational-quotes/8144-a-simple-smile-that-s-the-start-of-opening\"><img alt=\"A simple smile. That’s the start of opening your heart and being compassionate to others. #&lt;Author:0x00007f7a4080f2c0&gt;\" class=\"margin-10px-bottom shadow\" height=\"310\" src=\"https://assets.passiton.com/quotes/quote_artwork/8144/medium/20201015_thursday_quote.jpg?1602195631\" width=\"310\"/></a>\n",
       " <h5 class=\"value_on_red\"><a href=\"/inspirational-quotes/8144-a-simple-smile-that-s-the-start-of-opening\">SMILE</a></h5>\n",
       " </div>,\n",
       " <div class=\"col-6 col-lg-3 text-center margin-30px-bottom sm-margin-30px-top\">\n",
       " <a href=\"/inspirational-quotes/6258-a-smile-is-a-curve-that-sets-everything-straight\"><img alt=\"A smile is a curve that sets everything straight.  #&lt;Author:0x00007f7a40832428&gt;\" class=\"margin-10px-bottom shadow\" height=\"310\" src=\"https://assets.passiton.com/quotes/quote_artwork/6258/medium/20201014_wednesday_quote.jpg?1602261766\" width=\"310\"/></a>\n",
       " <h5 class=\"value_on_red\"><a href=\"/inspirational-quotes/6258-a-smile-is-a-curve-that-sets-everything-straight\">SMILE</a></h5>\n",
       " </div>,\n",
       " <div class=\"col-6 col-lg-3 text-center margin-30px-bottom sm-margin-30px-top\">\n",
       " <a href=\"/inspirational-quotes/7529-let-us-always-meet-each-other-with-smile-for\"><img alt=\"Let us always meet each other with smile, for the smile is the beginning of love. #&lt;Author:0x00007f7a40867f88&gt;\" class=\"margin-10px-bottom shadow\" height=\"310\" src=\"https://assets.passiton.com/quotes/quote_artwork/7529/medium/20201013_tuesday_quote_alt.jpg?1602262692\" width=\"310\"/></a>\n",
       " <h5 class=\"value_on_red\"><a href=\"/inspirational-quotes/7529-let-us-always-meet-each-other-with-smile-for\">SMILE</a></h5>\n",
       " </div>,\n",
       " <div class=\"col-6 col-lg-3 text-center margin-30px-bottom sm-margin-30px-top\">\n",
       " <a href=\"/inspirational-quotes/7044-what-sunshine-is-to-flowers-smiles-are-to\"><img alt=\"What sunshine is to flowers, smiles are to humanity. #&lt;Author:0x00007f7a4088be10&gt;\" class=\"margin-10px-bottom shadow\" height=\"310\" src=\"https://assets.passiton.com/quotes/quote_artwork/7044/medium/20201012_monday_quote_alt.jpg?1602261408\" width=\"310\"/></a>\n",
       " <h5 class=\"value_on_red\"><a href=\"/inspirational-quotes/7044-what-sunshine-is-to-flowers-smiles-are-to\">SMILE</a></h5>\n",
       " </div>,\n",
       " <div class=\"col-6 col-lg-3 text-center margin-30px-bottom sm-margin-30px-top\">\n",
       " <a href=\"/inspirational-quotes/8143-anytime-we-can-listen-to-our-true-self-and-give\"><img alt=\"Anytime we can listen to our true self and give the care it requires, we do it not only for ourselves, but for the many others whose lives we touch.  #&lt;Author:0x00007f7a408b4ab8&gt;\" class=\"margin-10px-bottom shadow\" height=\"310\" src=\"https://assets.passiton.com/quotes/quote_artwork/8143/medium/20201009_friday_quote_updated.jpg?1601662411\" width=\"310\"/></a>\n",
       " <h5 class=\"value_on_red\"><a href=\"/inspirational-quotes/8143-anytime-we-can-listen-to-our-true-self-and-give\">SELF-CARE</a></h5>\n",
       " </div>,\n",
       " <div class=\"col-6 col-lg-3 text-center margin-30px-bottom sm-margin-30px-top\">\n",
       " <a href=\"/inspirational-quotes/8142-when-you-recover-or-discover-something-that\"><img alt=\"When you recover or discover something that nourishes your soul and brings joy, care enough about yourself to make room for it in your life. #&lt;Author:0x00007f7a408e7120&gt;\" class=\"margin-10px-bottom shadow\" height=\"310\" src=\"https://assets.passiton.com/quotes/quote_artwork/8142/medium/20201008_thursday_quote.jpg?1601592469\" width=\"310\"/></a>\n",
       " <h5 class=\"value_on_red\"><a href=\"/inspirational-quotes/8142-when-you-recover-or-discover-something-that\">SELF-CARE</a></h5>\n",
       " </div>,\n",
       " <div class=\"col-6 col-lg-3 text-center margin-30px-bottom sm-margin-30px-top\">\n",
       " <a href=\"/inspirational-quotes/8141-it-s-not-selfish-to-love-yourself-take-care-of\"><img alt=\"It’s not selfish to love yourself, take care of yourself, and to make your happiness a priority. It’s necessary. #&lt;Author:0x00007f7a40927608&gt;\" class=\"margin-10px-bottom shadow\" height=\"310\" src=\"https://assets.passiton.com/quotes/quote_artwork/8141/medium/20201007_wednesday_quote.jpg?1601592441\" width=\"310\"/></a>\n",
       " <h5 class=\"value_on_red\"><a href=\"/inspirational-quotes/8141-it-s-not-selfish-to-love-yourself-take-care-of\">SELF-CARE</a></h5>\n",
       " </div>,\n",
       " <div class=\"col-6 col-lg-3 text-center margin-30px-bottom sm-margin-30px-top\">\n",
       " <a href=\"/inspirational-quotes/8140-when-you-take-care-of-yourself-you-re-a-better\"><img alt=\"When you take care of yourself, you’re a better person for others. When you feel good about yourself, you treat others better.  #&lt;Author:0x00007f7a40957448&gt;\" class=\"margin-10px-bottom shadow\" height=\"310\" src=\"https://assets.passiton.com/quotes/quote_artwork/8140/medium/20201006_tuesday_quote.jpg?1601592416\" width=\"310\"/></a>\n",
       " <h5 class=\"value_on_red\"><a href=\"/inspirational-quotes/8140-when-you-take-care-of-yourself-you-re-a-better\">SELF-CARE</a></h5>\n",
       " </div>,\n",
       " <div class=\"col-6 col-lg-3 text-center margin-30px-bottom sm-margin-30px-top\">\n",
       " <a href=\"/inspirational-quotes/8139-self-care-is-a-deliberate-choice-to-gift\"><img alt=\"Self-care is a deliberate choice to gift yourself with people, places, things, events, and opportunities that recharge our personal battery and promote whole health — body, mind, and spirit. #&lt;Author:0x00007f7a40974a20&gt;\" class=\"margin-10px-bottom shadow\" height=\"310\" src=\"https://assets.passiton.com/quotes/quote_artwork/8139/medium/20201005_monday_quote.jpg?1601592383\" width=\"310\"/></a>\n",
       " <h5 class=\"value_on_red\"><a href=\"/inspirational-quotes/8139-self-care-is-a-deliberate-choice-to-gift\">SELF-CARE</a></h5>\n",
       " </div>,\n",
       " <div class=\"col-6 col-lg-3 text-center margin-30px-bottom sm-margin-30px-top\">\n",
       " <a href=\"/inspirational-quotes/8138-leadership-is-about-empathy-it-is-about-having\"><img alt=\"Leadership is about empathy. It is about having the ability \n",
       " to relate to and connect with\n",
       " people for the purpose of\n",
       " inspiring and empowering\n",
       " their lives. #&lt;Author:0x00007f7a409a4838&gt;\" class=\"margin-10px-bottom shadow\" height=\"310\" src=\"https://assets.passiton.com/quotes/quote_artwork/8138/medium/20201002_friday_quote.jpg?1600981679\" width=\"310\"/></a>\n",
       " <h5 class=\"value_on_red\"><a href=\"/inspirational-quotes/8138-leadership-is-about-empathy-it-is-about-having\">EMPATHY</a></h5>\n",
       " </div>,\n",
       " <div class=\"col-6 col-lg-3 text-center margin-30px-bottom sm-margin-30px-top\">\n",
       " <a href=\"/inspirational-quotes/8135-the-nature-of-humanity-its-essence-is-to-feel\"><img alt=\"The nature of humanity, its essence, is to feel another’s pain as one’s own, and to act to take that pain away. There is a nobility in compassion, a beauty in empathy, a grace in forgiveness. #&lt;Author:0x00007f7a409fe4c8&gt;\" class=\"margin-10px-bottom shadow\" height=\"310\" src=\"https://assets.passiton.com/quotes/quote_artwork/8135/medium/20201001_thursday_quote.jpg?1600975693\" width=\"310\"/></a>\n",
       " <h5 class=\"value_on_red\"><a href=\"/inspirational-quotes/8135-the-nature-of-humanity-its-essence-is-to-feel\">EMPATHY</a></h5>\n",
       " </div>,\n",
       " <div class=\"col-6 col-lg-3 text-center margin-30px-bottom sm-margin-30px-top\">\n",
       " <a href=\"/inspirational-quotes/8136-empathy-is-the-starting-point-for-creating-a\"><img alt=\"Empathy is the starting point for creating a community and taking action. It’s the impetus for creating change. #&lt;Author:0x00007f7a40a525c8&gt;\" class=\"margin-10px-bottom shadow\" height=\"310\" src=\"https://assets.passiton.com/quotes/quote_artwork/8136/medium/20200930_wednesday_quote.jpg?1600975670\" width=\"310\"/></a>\n",
       " <h5 class=\"value_on_red\"><a href=\"/inspirational-quotes/8136-empathy-is-the-starting-point-for-creating-a\">EMPATHY</a></h5>\n",
       " </div>,\n",
       " <div class=\"col-6 col-lg-3 text-center margin-30px-bottom sm-margin-30px-top\">\n",
       " <a href=\"/inspirational-quotes/8137-empathy-is-simply-listening-holding-space\"><img alt=\"Empathy is simply listening, holding space, withholding judgment, emotionally connecting, and communicating that incredibly healing message of ‘you are not alone’. #&lt;Author:0x00007f7a40a98460&gt;\" class=\"margin-10px-bottom shadow\" height=\"310\" src=\"https://assets.passiton.com/quotes/quote_artwork/8137/medium/20201002_friday_quote.jpg?1600975717\" width=\"310\"/></a>\n",
       " <h5 class=\"value_on_red\"><a href=\"/inspirational-quotes/8137-empathy-is-simply-listening-holding-space\">EMPATHY</a></h5>\n",
       " </div>,\n",
       " <div class=\"col-6 col-lg-3 text-center margin-30px-bottom sm-margin-30px-top\">\n",
       " <a href=\"/inspirational-quotes/8133-empathy-is-seeing-with-the-eyes-of-another\"><img alt=\"Empathy is seeing with the eyes of another, listening with the ears of another, and feeling with the heart of another. – Alfred Adler #&lt;Author:0x00007f7a40b024f0&gt;\" class=\"margin-10px-bottom shadow\" height=\"310\" src=\"https://assets.passiton.com/quotes/quote_artwork/8133/medium/20200928_monday_quote.jpg?1600975626\" width=\"310\"/></a>\n",
       " <h5 class=\"value_on_red\"><a href=\"/inspirational-quotes/8133-empathy-is-seeing-with-the-eyes-of-another\">EMPATHY</a></h5>\n",
       " </div>,\n",
       " <div class=\"col-6 col-lg-3 text-center margin-30px-bottom sm-margin-30px-top\">\n",
       " <a href=\"/inspirational-quotes/7125-the-cure-for-anything-is-salt-water-tears\"><img alt=\"The cure for anything is salt water—tears, sweat, or the sea.\n",
       " \n",
       "  #&lt;Author:0x00007f7a40b508f8&gt;\" class=\"margin-10px-bottom shadow\" height=\"310\" src=\"https://assets.passiton.com/quotes/quote_artwork/7125/medium/20200925_friday_quote.jpg?1600453720\" width=\"310\"/></a>\n",
       " <h5 class=\"value_on_red\"><a href=\"/inspirational-quotes/7125-the-cure-for-anything-is-salt-water-tears\">GET OUTSIDE</a></h5>\n",
       " </div>,\n",
       " <div class=\"col-6 col-lg-3 text-center margin-30px-bottom sm-margin-30px-top\">\n",
       " <a href=\"/inspirational-quotes/8132-now-i-know-the-secret-of-making-the-best\"><img alt=\"Now I know the secret of making the best persons; it is to grow in the open air and to eat and sleep with the Earth. #&lt;Author:0x00007f7a40baae48&gt;\" class=\"margin-10px-bottom shadow\" height=\"310\" src=\"https://assets.passiton.com/quotes/quote_artwork/8132/medium/20200924_thursday_quote.jpg?1600453544\" width=\"310\"/></a>\n",
       " <h5 class=\"value_on_red\"><a href=\"/inspirational-quotes/8132-now-i-know-the-secret-of-making-the-best\">GET OUTSIDE</a></h5>\n",
       " </div>,\n",
       " <div class=\"col-6 col-lg-3 text-center margin-30px-bottom sm-margin-30px-top\">\n",
       " <a href=\"/inspirational-quotes/8131-i-firmly-believe-that-nature-brings-solace-in\"><img alt=\"I firmly believe that nature brings solace in all troubles. #&lt;Author:0x00007f7a40be6ad8&gt;\" class=\"margin-10px-bottom shadow\" height=\"310\" src=\"https://assets.passiton.com/quotes/quote_artwork/8131/medium/20200923_wednesday_quote.jpg?1600453521\" width=\"310\"/></a>\n",
       " <h5 class=\"value_on_red\"><a href=\"/inspirational-quotes/8131-i-firmly-believe-that-nature-brings-solace-in\">GET OUTSIDE</a></h5>\n",
       " </div>,\n",
       " <div class=\"col-6 col-lg-3 text-center margin-30px-bottom sm-margin-30px-top\">\n",
       " <a href=\"/inspirational-quotes/7123-wilderness-is-not-a-luxury-but-a-necessity-of\"><img alt=\"Wilderness is not a luxury, but a necessity of the human spirit. #&lt;Author:0x00007f7a40c13b50&gt;\" class=\"margin-10px-bottom shadow\" height=\"310\" src=\"https://assets.passiton.com/quotes/quote_artwork/7123/medium/20200922_tuesday_quote.jpg?1600453486\" width=\"310\"/></a>\n",
       " <h5 class=\"value_on_red\"><a href=\"/inspirational-quotes/7123-wilderness-is-not-a-luxury-but-a-necessity-of\">GET OUTSIDE</a></h5>\n",
       " </div>,\n",
       " <div class=\"col-6 col-lg-3 text-center margin-30px-bottom sm-margin-30px-top\">\n",
       " <a href=\"/inspirational-quotes/8130-live-in-the-sunshine-swim-in-the-sea-drink\"><img alt=\"Live in the sunshine, swim in the sea, drink the wild air’s salubrity. #&lt;Author:0x00007f7a40c47220&gt;\" class=\"margin-10px-bottom shadow\" height=\"310\" src=\"https://assets.passiton.com/quotes/quote_artwork/8130/medium/20200921_monday_quote.jpg?1600453130\" width=\"310\"/></a>\n",
       " <h5 class=\"value_on_red\"><a href=\"/inspirational-quotes/8130-live-in-the-sunshine-swim-in-the-sea-drink\">GET OUTSIDE</a></h5>\n",
       " </div>,\n",
       " <div class=\"col-6 col-lg-3 text-center margin-30px-bottom sm-margin-30px-top\">\n",
       " <a href=\"/inspirational-quotes/3685-lifes-most-urgent-question-is-what-are-you\"><img alt=\"Life's most urgent question is: What are you doing for others? #&lt;Author:0x00007f7a40c6b918&gt;\" class=\"margin-10px-bottom shadow\" height=\"310\" src=\"https://assets.passiton.com/quotes/quote_artwork/3685/medium/20200918_friday_quote.jpg?1599677031\" width=\"310\"/></a>\n",
       " <h5 class=\"value_on_red\"><a href=\"/inspirational-quotes/3685-lifes-most-urgent-question-is-what-are-you\">BEING THERE</a></h5>\n",
       " </div>,\n",
       " <div class=\"col-6 col-lg-3 text-center margin-30px-bottom sm-margin-30px-top\">\n",
       " <a href=\"/inspirational-quotes/8129-it-s-good-to-be-blessed-it-s-better-to-be-a\"><img alt=\"It’s good to be blessed. It’s better to be a blessing. #&lt;Author:0x00007f7a40c8e5d0&gt;\" class=\"margin-10px-bottom shadow\" height=\"310\" src=\"https://assets.passiton.com/quotes/quote_artwork/8129/medium/20200917_thursday_quote.jpg?1599676277\" width=\"310\"/></a>\n",
       " <h5 class=\"value_on_red\"><a href=\"/inspirational-quotes/8129-it-s-good-to-be-blessed-it-s-better-to-be-a\">BEING THERE</a></h5>\n",
       " </div>,\n",
       " <div class=\"col-6 col-lg-3 text-center margin-30px-bottom sm-margin-30px-top\">\n",
       " <a href=\"/inspirational-quotes/7703-if-youre-not-making-someone-elses-life-better\"><img alt=\"If you're not making someone else's life better, then you're wasting your time. Your life will become better by making other lives better. #&lt;Author:0x00007f7a40cbf720&gt;\" class=\"margin-10px-bottom shadow\" height=\"310\" src=\"https://assets.passiton.com/quotes/quote_artwork/7703/medium/20200916_wednesday_quote.jpg?1599676255\" width=\"310\"/></a>\n",
       " <h5 class=\"value_on_red\"><a href=\"/inspirational-quotes/7703-if-youre-not-making-someone-elses-life-better\">BEING THERE</a></h5>\n",
       " </div>]"
      ]
     },
     "execution_count": 7,
     "metadata": {},
     "output_type": "execute_result"
    }
   ],
   "source": [
    "data_all=soup.findAll('div',{'class':'col-6 col-lg-3 text-center margin-30px-bottom sm-margin-30px-top'})\n",
    "data_all"
   ]
  },
  {
   "cell_type": "code",
   "execution_count": 8,
   "metadata": {},
   "outputs": [
    {
     "data": {
      "text/plain": [
       "<div class=\"col-6 col-lg-3 text-center margin-30px-bottom sm-margin-30px-top\">\n",
       "<a href=\"/inspirational-quotes/8150-but-where-was-i-to-start-the-world-is-so-vast\"><img alt=\"But where was I to start? The world is so vast, I shall start with the country I know best, my own. But my country is so very large. I had better start with my town. But my town too, is large. I had best start with my street. No: my home. No: my family. Never mind, I shall start with myself. #&lt;Author:0x00007f7a405adc70&gt;\" class=\"margin-10px-bottom shadow\" height=\"310\" src=\"https://assets.passiton.com/quotes/quote_artwork/8150/medium/20201029_thursday_quote.jpg?1603383758\" width=\"310\"/></a>\n",
       "<h5 class=\"value_on_red\"><a href=\"/inspirational-quotes/8150-but-where-was-i-to-start-the-world-is-so-vast\">MAKING A DIFFERENCE</a></h5>\n",
       "</div>"
      ]
     },
     "execution_count": 8,
     "metadata": {},
     "output_type": "execute_result"
    }
   ],
   "source": [
    "data=data_all[0]\n",
    "data"
   ]
  },
  {
   "cell_type": "code",
   "execution_count": 9,
   "metadata": {},
   "outputs": [
    {
     "data": {
      "text/plain": [
       "<img alt=\"But where was I to start? The world is so vast, I shall start with the country I know best, my own. But my country is so very large. I had better start with my town. But my town too, is large. I had best start with my street. No: my home. No: my family. Never mind, I shall start with myself. #&lt;Author:0x00007f7a405adc70&gt;\" class=\"margin-10px-bottom shadow\" height=\"310\" src=\"https://assets.passiton.com/quotes/quote_artwork/8150/medium/20201029_thursday_quote.jpg?1603383758\" width=\"310\"/>"
      ]
     },
     "execution_count": 9,
     "metadata": {},
     "output_type": "execute_result"
    }
   ],
   "source": [
    "data.img"
   ]
  },
  {
   "cell_type": "code",
   "execution_count": 10,
   "metadata": {},
   "outputs": [
    {
     "name": "stdout",
     "output_type": "stream",
     "text": [
      "https://assets.passiton.com/quotes/quote_artwork/8150/medium/20201029_thursday_quote.jpg?1603383758\n",
      "1603383758\n"
     ]
    }
   ],
   "source": [
    "loc=data.img.attrs['src']\n",
    "print(loc)\n",
    "no=str(loc[-10:])\n",
    "print(no)"
   ]
  },
  {
   "cell_type": "code",
   "execution_count": 11,
   "metadata": {},
   "outputs": [],
   "source": [
    "with open('./img/Inspiration'+no+'.jpg','wb') as file:\n",
    "    response=requests.get(loc)\n",
    "    file.write(response.content)"
   ]
  },
  {
   "cell_type": "code",
   "execution_count": 14,
   "metadata": {},
   "outputs": [
    {
     "name": "stdout",
     "output_type": "stream",
     "text": [
      "https://assets.passiton.com/quotes/quote_artwork/8150/medium/20201029_thursday_quote.jpg?1603383758\n",
      "https://assets.passiton.com/quotes/quote_artwork/8149/medium/20201026_monday_quote.jpg?1603383688\n",
      "https://assets.passiton.com/quotes/quote_artwork/4128/medium/20201028_wednesday_quote.jpg?1603383733\n",
      "https://assets.passiton.com/quotes/quote_artwork/6826/medium/20201027_tuesday_quote.jpg?1603383711\n",
      "https://assets.passiton.com/quotes/quote_artwork/3752/medium/20201023_friday_quote_update.jpg?1602883670\n",
      "https://assets.passiton.com/quotes/quote_artwork/7750/medium/20201022_thursday_quote_update.jpg?1602883540\n",
      "https://assets.passiton.com/quotes/quote_artwork/8147/medium/20201021_wednesday_quote.jpg?1602872491\n",
      "https://assets.passiton.com/quotes/quote_artwork/8146/medium/20201020_tuesday_quote.jpg?1602872463\n",
      "https://assets.passiton.com/quotes/quote_artwork/4704/medium/20201019_monday_quote.jpg?1602872415\n",
      "https://assets.passiton.com/quotes/quote_artwork/8145/medium/20201016_friday_quote.jpg?1602195654\n",
      "https://assets.passiton.com/quotes/quote_artwork/8144/medium/20201015_thursday_quote.jpg?1602195631\n",
      "https://assets.passiton.com/quotes/quote_artwork/6258/medium/20201014_wednesday_quote.jpg?1602261766\n",
      "https://assets.passiton.com/quotes/quote_artwork/7529/medium/20201013_tuesday_quote_alt.jpg?1602262692\n",
      "https://assets.passiton.com/quotes/quote_artwork/7044/medium/20201012_monday_quote_alt.jpg?1602261408\n",
      "https://assets.passiton.com/quotes/quote_artwork/8143/medium/20201009_friday_quote_updated.jpg?1601662411\n",
      "https://assets.passiton.com/quotes/quote_artwork/8142/medium/20201008_thursday_quote.jpg?1601592469\n",
      "https://assets.passiton.com/quotes/quote_artwork/8141/medium/20201007_wednesday_quote.jpg?1601592441\n",
      "https://assets.passiton.com/quotes/quote_artwork/8140/medium/20201006_tuesday_quote.jpg?1601592416\n",
      "https://assets.passiton.com/quotes/quote_artwork/8139/medium/20201005_monday_quote.jpg?1601592383\n",
      "https://assets.passiton.com/quotes/quote_artwork/8138/medium/20201002_friday_quote.jpg?1600981679\n",
      "https://assets.passiton.com/quotes/quote_artwork/8135/medium/20201001_thursday_quote.jpg?1600975693\n",
      "https://assets.passiton.com/quotes/quote_artwork/8136/medium/20200930_wednesday_quote.jpg?1600975670\n",
      "https://assets.passiton.com/quotes/quote_artwork/8137/medium/20201002_friday_quote.jpg?1600975717\n",
      "https://assets.passiton.com/quotes/quote_artwork/8133/medium/20200928_monday_quote.jpg?1600975626\n",
      "https://assets.passiton.com/quotes/quote_artwork/7125/medium/20200925_friday_quote.jpg?1600453720\n",
      "https://assets.passiton.com/quotes/quote_artwork/8132/medium/20200924_thursday_quote.jpg?1600453544\n",
      "https://assets.passiton.com/quotes/quote_artwork/8131/medium/20200923_wednesday_quote.jpg?1600453521\n",
      "https://assets.passiton.com/quotes/quote_artwork/7123/medium/20200922_tuesday_quote.jpg?1600453486\n",
      "https://assets.passiton.com/quotes/quote_artwork/8130/medium/20200921_monday_quote.jpg?1600453130\n",
      "https://assets.passiton.com/quotes/quote_artwork/3685/medium/20200918_friday_quote.jpg?1599677031\n",
      "https://assets.passiton.com/quotes/quote_artwork/8129/medium/20200917_thursday_quote.jpg?1599676277\n",
      "https://assets.passiton.com/quotes/quote_artwork/7703/medium/20200916_wednesday_quote.jpg?1599676255\n"
     ]
    }
   ],
   "source": [
    "##### either we use this and slice id from loc\n",
    "for data in data_all:\n",
    "    loc=data.img.attrs['src']\n",
    "    print(loc)\n",
    "    no=str(loc[-10:])\n",
    "    with open('./img/Inspiration'+no+'.jpg','wb') as file:\n",
    "        response=requests.get(loc)\n",
    "        file.write(response.content)"
   ]
  },
  {
   "cell_type": "code",
   "execution_count": 13,
   "metadata": {},
   "outputs": [],
   "source": [
    "###### we may use enumerator also and automatically id them as 0 ,1 , 2,......\n",
    "for i,data in enumerate(data_all):\n",
    "    loc=data.img.attrs['src']\n",
    "    with open('./img/Inspiration{}.jpg'.format(i),'wb') as file:\n",
    "        response=requests.get(loc)\n",
    "        file.write(response.content)\n"
   ]
  },
  {
   "cell_type": "code",
   "execution_count": null,
   "metadata": {},
   "outputs": [],
   "source": []
  }
 ],
 "metadata": {
  "kernelspec": {
   "display_name": "Python 3",
   "language": "python",
   "name": "python3"
  },
  "language_info": {
   "codemirror_mode": {
    "name": "ipython",
    "version": 3
   },
   "file_extension": ".py",
   "mimetype": "text/x-python",
   "name": "python",
   "nbconvert_exporter": "python",
   "pygments_lexer": "ipython3",
   "version": "3.8.3"
  }
 },
 "nbformat": 4,
 "nbformat_minor": 2
}
